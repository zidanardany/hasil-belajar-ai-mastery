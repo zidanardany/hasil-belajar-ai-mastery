{
  "nbformat": 4,
  "nbformat_minor": 0,
  "metadata": {
    "colab": {
      "name": "Principal Component Analysis.ipynb",
      "provenance": [],
      "collapsed_sections": [],
      "include_colab_link": true
    },
    "kernelspec": {
      "name": "python3",
      "display_name": "Python 3"
    },
    "language_info": {
      "name": "python"
    }
  },
  "cells": [
    {
      "cell_type": "markdown",
      "metadata": {
        "id": "view-in-github",
        "colab_type": "text"
      },
      "source": [
        "<a href=\"https://colab.research.google.com/github/zidanardany/hasil-belajar-ai-mastery/blob/main/Principal_Component_Analysis.ipynb\" target=\"_parent\"><img src=\"https://colab.research.google.com/assets/colab-badge.svg\" alt=\"Open In Colab\"/></a>"
      ]
    },
    {
      "cell_type": "code",
      "execution_count": null,
      "metadata": {
        "id": "BBtS_NZNyXOj"
      },
      "outputs": [],
      "source": [
        "import pandas as pd\n",
        "import numpy as np\n",
        "import random as rd\n",
        "from sklearn.decomposition import PCA\n",
        "from sklearn import preprocessing #scale\n",
        "import matplotlib.pyplot as plt"
      ]
    },
    {
      "cell_type": "markdown",
      "source": [
        "# Data Generation Code"
      ],
      "metadata": {
        "id": "QgNsEkQeyxaq"
      }
    },
    {
      "cell_type": "code",
      "source": [
        "genes = ['gene' + str(i) for i in range(1,101)]\n",
        "genes[:3]"
      ],
      "metadata": {
        "colab": {
          "base_uri": "https://localhost:8080/"
        },
        "id": "SsP2Cj1Yybei",
        "outputId": "ecda075d-b54a-4e47-e20f-cbf2937fdf9a"
      },
      "execution_count": null,
      "outputs": [
        {
          "output_type": "execute_result",
          "data": {
            "text/plain": [
              "['gene1', 'gene2', 'gene3']"
            ]
          },
          "metadata": {},
          "execution_count": 18
        }
      ]
    },
    {
      "cell_type": "markdown",
      "source": [
        "wt= wild type samples\n",
        "\n",
        "\n",
        "ko= knock out samples"
      ],
      "metadata": {
        "id": "Mh8IudWzzaW1"
      }
    },
    {
      "cell_type": "code",
      "source": [
        "wt = ['wt' + str(i) for i in range(1,6)]\n",
        "ko = ['ko' + str(i) for i in range(1,6)]\n",
        "wt[:3]"
      ],
      "metadata": {
        "colab": {
          "base_uri": "https://localhost:8080/"
        },
        "id": "cg_31jkOzHUo",
        "outputId": "252cb499-370b-4e16-9e27-b7a13005dc5a"
      },
      "execution_count": null,
      "outputs": [
        {
          "output_type": "execute_result",
          "data": {
            "text/plain": [
              "['wt1', 'wt2', 'wt3']"
            ]
          },
          "metadata": {},
          "execution_count": 19
        }
      ]
    },
    {
      "cell_type": "code",
      "source": [
        "data = pd.DataFrame(columns=[*wt, *ko], index=genes)\n",
        "data.head()"
      ],
      "metadata": {
        "colab": {
          "base_uri": "https://localhost:8080/",
          "height": 206
        },
        "id": "JdSPdl7izsUP",
        "outputId": "9b3656cf-1fcf-402f-a1ae-9a35bbff1f2d"
      },
      "execution_count": null,
      "outputs": [
        {
          "output_type": "execute_result",
          "data": {
            "text/plain": [
              "       wt1  wt2  wt3  wt4  wt5  ko1  ko2  ko3  ko4  ko5\n",
              "gene1  NaN  NaN  NaN  NaN  NaN  NaN  NaN  NaN  NaN  NaN\n",
              "gene2  NaN  NaN  NaN  NaN  NaN  NaN  NaN  NaN  NaN  NaN\n",
              "gene3  NaN  NaN  NaN  NaN  NaN  NaN  NaN  NaN  NaN  NaN\n",
              "gene4  NaN  NaN  NaN  NaN  NaN  NaN  NaN  NaN  NaN  NaN\n",
              "gene5  NaN  NaN  NaN  NaN  NaN  NaN  NaN  NaN  NaN  NaN"
            ],
            "text/html": [
              "\n",
              "  <div id=\"df-b2e08bbc-a45d-4abc-9c0d-6a28482b94cd\">\n",
              "    <div class=\"colab-df-container\">\n",
              "      <div>\n",
              "<style scoped>\n",
              "    .dataframe tbody tr th:only-of-type {\n",
              "        vertical-align: middle;\n",
              "    }\n",
              "\n",
              "    .dataframe tbody tr th {\n",
              "        vertical-align: top;\n",
              "    }\n",
              "\n",
              "    .dataframe thead th {\n",
              "        text-align: right;\n",
              "    }\n",
              "</style>\n",
              "<table border=\"1\" class=\"dataframe\">\n",
              "  <thead>\n",
              "    <tr style=\"text-align: right;\">\n",
              "      <th></th>\n",
              "      <th>wt1</th>\n",
              "      <th>wt2</th>\n",
              "      <th>wt3</th>\n",
              "      <th>wt4</th>\n",
              "      <th>wt5</th>\n",
              "      <th>ko1</th>\n",
              "      <th>ko2</th>\n",
              "      <th>ko3</th>\n",
              "      <th>ko4</th>\n",
              "      <th>ko5</th>\n",
              "    </tr>\n",
              "  </thead>\n",
              "  <tbody>\n",
              "    <tr>\n",
              "      <th>gene1</th>\n",
              "      <td>NaN</td>\n",
              "      <td>NaN</td>\n",
              "      <td>NaN</td>\n",
              "      <td>NaN</td>\n",
              "      <td>NaN</td>\n",
              "      <td>NaN</td>\n",
              "      <td>NaN</td>\n",
              "      <td>NaN</td>\n",
              "      <td>NaN</td>\n",
              "      <td>NaN</td>\n",
              "    </tr>\n",
              "    <tr>\n",
              "      <th>gene2</th>\n",
              "      <td>NaN</td>\n",
              "      <td>NaN</td>\n",
              "      <td>NaN</td>\n",
              "      <td>NaN</td>\n",
              "      <td>NaN</td>\n",
              "      <td>NaN</td>\n",
              "      <td>NaN</td>\n",
              "      <td>NaN</td>\n",
              "      <td>NaN</td>\n",
              "      <td>NaN</td>\n",
              "    </tr>\n",
              "    <tr>\n",
              "      <th>gene3</th>\n",
              "      <td>NaN</td>\n",
              "      <td>NaN</td>\n",
              "      <td>NaN</td>\n",
              "      <td>NaN</td>\n",
              "      <td>NaN</td>\n",
              "      <td>NaN</td>\n",
              "      <td>NaN</td>\n",
              "      <td>NaN</td>\n",
              "      <td>NaN</td>\n",
              "      <td>NaN</td>\n",
              "    </tr>\n",
              "    <tr>\n",
              "      <th>gene4</th>\n",
              "      <td>NaN</td>\n",
              "      <td>NaN</td>\n",
              "      <td>NaN</td>\n",
              "      <td>NaN</td>\n",
              "      <td>NaN</td>\n",
              "      <td>NaN</td>\n",
              "      <td>NaN</td>\n",
              "      <td>NaN</td>\n",
              "      <td>NaN</td>\n",
              "      <td>NaN</td>\n",
              "    </tr>\n",
              "    <tr>\n",
              "      <th>gene5</th>\n",
              "      <td>NaN</td>\n",
              "      <td>NaN</td>\n",
              "      <td>NaN</td>\n",
              "      <td>NaN</td>\n",
              "      <td>NaN</td>\n",
              "      <td>NaN</td>\n",
              "      <td>NaN</td>\n",
              "      <td>NaN</td>\n",
              "      <td>NaN</td>\n",
              "      <td>NaN</td>\n",
              "    </tr>\n",
              "  </tbody>\n",
              "</table>\n",
              "</div>\n",
              "      <button class=\"colab-df-convert\" onclick=\"convertToInteractive('df-b2e08bbc-a45d-4abc-9c0d-6a28482b94cd')\"\n",
              "              title=\"Convert this dataframe to an interactive table.\"\n",
              "              style=\"display:none;\">\n",
              "        \n",
              "  <svg xmlns=\"http://www.w3.org/2000/svg\" height=\"24px\"viewBox=\"0 0 24 24\"\n",
              "       width=\"24px\">\n",
              "    <path d=\"M0 0h24v24H0V0z\" fill=\"none\"/>\n",
              "    <path d=\"M18.56 5.44l.94 2.06.94-2.06 2.06-.94-2.06-.94-.94-2.06-.94 2.06-2.06.94zm-11 1L8.5 8.5l.94-2.06 2.06-.94-2.06-.94L8.5 2.5l-.94 2.06-2.06.94zm10 10l.94 2.06.94-2.06 2.06-.94-2.06-.94-.94-2.06-.94 2.06-2.06.94z\"/><path d=\"M17.41 7.96l-1.37-1.37c-.4-.4-.92-.59-1.43-.59-.52 0-1.04.2-1.43.59L10.3 9.45l-7.72 7.72c-.78.78-.78 2.05 0 2.83L4 21.41c.39.39.9.59 1.41.59.51 0 1.02-.2 1.41-.59l7.78-7.78 2.81-2.81c.8-.78.8-2.07 0-2.86zM5.41 20L4 18.59l7.72-7.72 1.47 1.35L5.41 20z\"/>\n",
              "  </svg>\n",
              "      </button>\n",
              "      \n",
              "  <style>\n",
              "    .colab-df-container {\n",
              "      display:flex;\n",
              "      flex-wrap:wrap;\n",
              "      gap: 12px;\n",
              "    }\n",
              "\n",
              "    .colab-df-convert {\n",
              "      background-color: #E8F0FE;\n",
              "      border: none;\n",
              "      border-radius: 50%;\n",
              "      cursor: pointer;\n",
              "      display: none;\n",
              "      fill: #1967D2;\n",
              "      height: 32px;\n",
              "      padding: 0 0 0 0;\n",
              "      width: 32px;\n",
              "    }\n",
              "\n",
              "    .colab-df-convert:hover {\n",
              "      background-color: #E2EBFA;\n",
              "      box-shadow: 0px 1px 2px rgba(60, 64, 67, 0.3), 0px 1px 3px 1px rgba(60, 64, 67, 0.15);\n",
              "      fill: #174EA6;\n",
              "    }\n",
              "\n",
              "    [theme=dark] .colab-df-convert {\n",
              "      background-color: #3B4455;\n",
              "      fill: #D2E3FC;\n",
              "    }\n",
              "\n",
              "    [theme=dark] .colab-df-convert:hover {\n",
              "      background-color: #434B5C;\n",
              "      box-shadow: 0px 1px 3px 1px rgba(0, 0, 0, 0.15);\n",
              "      filter: drop-shadow(0px 1px 2px rgba(0, 0, 0, 0.3));\n",
              "      fill: #FFFFFF;\n",
              "    }\n",
              "  </style>\n",
              "\n",
              "      <script>\n",
              "        const buttonEl =\n",
              "          document.querySelector('#df-b2e08bbc-a45d-4abc-9c0d-6a28482b94cd button.colab-df-convert');\n",
              "        buttonEl.style.display =\n",
              "          google.colab.kernel.accessAllowed ? 'block' : 'none';\n",
              "\n",
              "        async function convertToInteractive(key) {\n",
              "          const element = document.querySelector('#df-b2e08bbc-a45d-4abc-9c0d-6a28482b94cd');\n",
              "          const dataTable =\n",
              "            await google.colab.kernel.invokeFunction('convertToInteractive',\n",
              "                                                     [key], {});\n",
              "          if (!dataTable) return;\n",
              "\n",
              "          const docLinkHtml = 'Like what you see? Visit the ' +\n",
              "            '<a target=\"_blank\" href=https://colab.research.google.com/notebooks/data_table.ipynb>data table notebook</a>'\n",
              "            + ' to learn more about interactive tables.';\n",
              "          element.innerHTML = '';\n",
              "          dataTable['output_type'] = 'display_data';\n",
              "          await google.colab.output.renderOutput(dataTable, element);\n",
              "          const docLink = document.createElement('div');\n",
              "          docLink.innerHTML = docLinkHtml;\n",
              "          element.appendChild(docLink);\n",
              "        }\n",
              "      </script>\n",
              "    </div>\n",
              "  </div>\n",
              "  "
            ]
          },
          "metadata": {},
          "execution_count": 20
        }
      ]
    },
    {
      "cell_type": "code",
      "source": [
        "for gene in data.index: \n",
        "    data.loc[gene,'wt1':'wt5'] = np.random.poisson(lam=rd.randrange(10,1000), size=5)\n",
        "    data.loc[gene,'ko1':'ko5'] = np.random.poisson(lam=rd.randrange(10,1000), size=5)"
      ],
      "metadata": {
        "id": "fU_BKS5g0FdI"
      },
      "execution_count": null,
      "outputs": []
    },
    {
      "cell_type": "code",
      "source": [
        "print(data.head())"
      ],
      "metadata": {
        "colab": {
          "base_uri": "https://localhost:8080/"
        },
        "id": "4f7Y9MJD0OZn",
        "outputId": "6cf40bef-ede8-4ad0-9227-4593d5dbef0e"
      },
      "execution_count": null,
      "outputs": [
        {
          "output_type": "stream",
          "name": "stdout",
          "text": [
            "       wt1  wt2  wt3  wt4  wt5  ko1  ko2  ko3  ko4  ko5\n",
            "gene1  588  611  580  535  568  511  511  579  546  563\n",
            "gene2  900  923  906  946  948  742  816  758  732  764\n",
            "gene3  496  521  497  487  512  600  542  623  575  538\n",
            "gene4  643  627  629  637  599  529  496  556  496  506\n",
            "gene5  746  789  654  752  740  718  745  707  662  732\n"
          ]
        }
      ]
    },
    {
      "cell_type": "code",
      "source": [
        "print(data.shape)"
      ],
      "metadata": {
        "colab": {
          "base_uri": "https://localhost:8080/"
        },
        "id": "4WPrgvkx0Phm",
        "outputId": "3166c00b-6b5f-48af-9062-089a2b185318"
      },
      "execution_count": null,
      "outputs": [
        {
          "output_type": "stream",
          "name": "stdout",
          "text": [
            "(100, 10)\n"
          ]
        }
      ]
    },
    {
      "cell_type": "code",
      "source": [
        "data=data.T\n",
        "data.head()"
      ],
      "metadata": {
        "colab": {
          "base_uri": "https://localhost:8080/",
          "height": 299
        },
        "id": "68hNSaBv0rW8",
        "outputId": "7b2a0994-9150-4193-ff7b-1ec89765949c"
      },
      "execution_count": null,
      "outputs": [
        {
          "output_type": "execute_result",
          "data": {
            "text/plain": [
              "    gene1 gene2 gene3 gene4 gene5 gene6 gene7 gene8 gene9 gene10  ... gene91  \\\n",
              "wt1   588   900   496   643   746   292   466   938   185     45  ...    679   \n",
              "wt2   611   923   521   627   789   317   501   970   188     27  ...    693   \n",
              "wt3   580   906   497   629   654   319   466  1020   206     30  ...    661   \n",
              "wt4   535   946   487   637   752   336   486   961   198     31  ...    709   \n",
              "wt5   568   948   512   599   740   335   514   993   208     49  ...    702   \n",
              "\n",
              "    gene92 gene93 gene94 gene95 gene96 gene97 gene98 gene99 gene100  \n",
              "wt1    583     40    555    192    929    921    731    644     559  \n",
              "wt2    568     51    577    206    854    872    670    622     573  \n",
              "wt3    611     56    532    193    844    925    678    638     569  \n",
              "wt4    555     55    590    186    864    912    634    674     573  \n",
              "wt5    588     46    551    190    886    907    734    657     532  \n",
              "\n",
              "[5 rows x 100 columns]"
            ],
            "text/html": [
              "\n",
              "  <div id=\"df-22d51be6-9a44-4436-9b68-c11acef4c5f7\">\n",
              "    <div class=\"colab-df-container\">\n",
              "      <div>\n",
              "<style scoped>\n",
              "    .dataframe tbody tr th:only-of-type {\n",
              "        vertical-align: middle;\n",
              "    }\n",
              "\n",
              "    .dataframe tbody tr th {\n",
              "        vertical-align: top;\n",
              "    }\n",
              "\n",
              "    .dataframe thead th {\n",
              "        text-align: right;\n",
              "    }\n",
              "</style>\n",
              "<table border=\"1\" class=\"dataframe\">\n",
              "  <thead>\n",
              "    <tr style=\"text-align: right;\">\n",
              "      <th></th>\n",
              "      <th>gene1</th>\n",
              "      <th>gene2</th>\n",
              "      <th>gene3</th>\n",
              "      <th>gene4</th>\n",
              "      <th>gene5</th>\n",
              "      <th>gene6</th>\n",
              "      <th>gene7</th>\n",
              "      <th>gene8</th>\n",
              "      <th>gene9</th>\n",
              "      <th>gene10</th>\n",
              "      <th>...</th>\n",
              "      <th>gene91</th>\n",
              "      <th>gene92</th>\n",
              "      <th>gene93</th>\n",
              "      <th>gene94</th>\n",
              "      <th>gene95</th>\n",
              "      <th>gene96</th>\n",
              "      <th>gene97</th>\n",
              "      <th>gene98</th>\n",
              "      <th>gene99</th>\n",
              "      <th>gene100</th>\n",
              "    </tr>\n",
              "  </thead>\n",
              "  <tbody>\n",
              "    <tr>\n",
              "      <th>wt1</th>\n",
              "      <td>588</td>\n",
              "      <td>900</td>\n",
              "      <td>496</td>\n",
              "      <td>643</td>\n",
              "      <td>746</td>\n",
              "      <td>292</td>\n",
              "      <td>466</td>\n",
              "      <td>938</td>\n",
              "      <td>185</td>\n",
              "      <td>45</td>\n",
              "      <td>...</td>\n",
              "      <td>679</td>\n",
              "      <td>583</td>\n",
              "      <td>40</td>\n",
              "      <td>555</td>\n",
              "      <td>192</td>\n",
              "      <td>929</td>\n",
              "      <td>921</td>\n",
              "      <td>731</td>\n",
              "      <td>644</td>\n",
              "      <td>559</td>\n",
              "    </tr>\n",
              "    <tr>\n",
              "      <th>wt2</th>\n",
              "      <td>611</td>\n",
              "      <td>923</td>\n",
              "      <td>521</td>\n",
              "      <td>627</td>\n",
              "      <td>789</td>\n",
              "      <td>317</td>\n",
              "      <td>501</td>\n",
              "      <td>970</td>\n",
              "      <td>188</td>\n",
              "      <td>27</td>\n",
              "      <td>...</td>\n",
              "      <td>693</td>\n",
              "      <td>568</td>\n",
              "      <td>51</td>\n",
              "      <td>577</td>\n",
              "      <td>206</td>\n",
              "      <td>854</td>\n",
              "      <td>872</td>\n",
              "      <td>670</td>\n",
              "      <td>622</td>\n",
              "      <td>573</td>\n",
              "    </tr>\n",
              "    <tr>\n",
              "      <th>wt3</th>\n",
              "      <td>580</td>\n",
              "      <td>906</td>\n",
              "      <td>497</td>\n",
              "      <td>629</td>\n",
              "      <td>654</td>\n",
              "      <td>319</td>\n",
              "      <td>466</td>\n",
              "      <td>1020</td>\n",
              "      <td>206</td>\n",
              "      <td>30</td>\n",
              "      <td>...</td>\n",
              "      <td>661</td>\n",
              "      <td>611</td>\n",
              "      <td>56</td>\n",
              "      <td>532</td>\n",
              "      <td>193</td>\n",
              "      <td>844</td>\n",
              "      <td>925</td>\n",
              "      <td>678</td>\n",
              "      <td>638</td>\n",
              "      <td>569</td>\n",
              "    </tr>\n",
              "    <tr>\n",
              "      <th>wt4</th>\n",
              "      <td>535</td>\n",
              "      <td>946</td>\n",
              "      <td>487</td>\n",
              "      <td>637</td>\n",
              "      <td>752</td>\n",
              "      <td>336</td>\n",
              "      <td>486</td>\n",
              "      <td>961</td>\n",
              "      <td>198</td>\n",
              "      <td>31</td>\n",
              "      <td>...</td>\n",
              "      <td>709</td>\n",
              "      <td>555</td>\n",
              "      <td>55</td>\n",
              "      <td>590</td>\n",
              "      <td>186</td>\n",
              "      <td>864</td>\n",
              "      <td>912</td>\n",
              "      <td>634</td>\n",
              "      <td>674</td>\n",
              "      <td>573</td>\n",
              "    </tr>\n",
              "    <tr>\n",
              "      <th>wt5</th>\n",
              "      <td>568</td>\n",
              "      <td>948</td>\n",
              "      <td>512</td>\n",
              "      <td>599</td>\n",
              "      <td>740</td>\n",
              "      <td>335</td>\n",
              "      <td>514</td>\n",
              "      <td>993</td>\n",
              "      <td>208</td>\n",
              "      <td>49</td>\n",
              "      <td>...</td>\n",
              "      <td>702</td>\n",
              "      <td>588</td>\n",
              "      <td>46</td>\n",
              "      <td>551</td>\n",
              "      <td>190</td>\n",
              "      <td>886</td>\n",
              "      <td>907</td>\n",
              "      <td>734</td>\n",
              "      <td>657</td>\n",
              "      <td>532</td>\n",
              "    </tr>\n",
              "  </tbody>\n",
              "</table>\n",
              "<p>5 rows × 100 columns</p>\n",
              "</div>\n",
              "      <button class=\"colab-df-convert\" onclick=\"convertToInteractive('df-22d51be6-9a44-4436-9b68-c11acef4c5f7')\"\n",
              "              title=\"Convert this dataframe to an interactive table.\"\n",
              "              style=\"display:none;\">\n",
              "        \n",
              "  <svg xmlns=\"http://www.w3.org/2000/svg\" height=\"24px\"viewBox=\"0 0 24 24\"\n",
              "       width=\"24px\">\n",
              "    <path d=\"M0 0h24v24H0V0z\" fill=\"none\"/>\n",
              "    <path d=\"M18.56 5.44l.94 2.06.94-2.06 2.06-.94-2.06-.94-.94-2.06-.94 2.06-2.06.94zm-11 1L8.5 8.5l.94-2.06 2.06-.94-2.06-.94L8.5 2.5l-.94 2.06-2.06.94zm10 10l.94 2.06.94-2.06 2.06-.94-2.06-.94-.94-2.06-.94 2.06-2.06.94z\"/><path d=\"M17.41 7.96l-1.37-1.37c-.4-.4-.92-.59-1.43-.59-.52 0-1.04.2-1.43.59L10.3 9.45l-7.72 7.72c-.78.78-.78 2.05 0 2.83L4 21.41c.39.39.9.59 1.41.59.51 0 1.02-.2 1.41-.59l7.78-7.78 2.81-2.81c.8-.78.8-2.07 0-2.86zM5.41 20L4 18.59l7.72-7.72 1.47 1.35L5.41 20z\"/>\n",
              "  </svg>\n",
              "      </button>\n",
              "      \n",
              "  <style>\n",
              "    .colab-df-container {\n",
              "      display:flex;\n",
              "      flex-wrap:wrap;\n",
              "      gap: 12px;\n",
              "    }\n",
              "\n",
              "    .colab-df-convert {\n",
              "      background-color: #E8F0FE;\n",
              "      border: none;\n",
              "      border-radius: 50%;\n",
              "      cursor: pointer;\n",
              "      display: none;\n",
              "      fill: #1967D2;\n",
              "      height: 32px;\n",
              "      padding: 0 0 0 0;\n",
              "      width: 32px;\n",
              "    }\n",
              "\n",
              "    .colab-df-convert:hover {\n",
              "      background-color: #E2EBFA;\n",
              "      box-shadow: 0px 1px 2px rgba(60, 64, 67, 0.3), 0px 1px 3px 1px rgba(60, 64, 67, 0.15);\n",
              "      fill: #174EA6;\n",
              "    }\n",
              "\n",
              "    [theme=dark] .colab-df-convert {\n",
              "      background-color: #3B4455;\n",
              "      fill: #D2E3FC;\n",
              "    }\n",
              "\n",
              "    [theme=dark] .colab-df-convert:hover {\n",
              "      background-color: #434B5C;\n",
              "      box-shadow: 0px 1px 3px 1px rgba(0, 0, 0, 0.15);\n",
              "      filter: drop-shadow(0px 1px 2px rgba(0, 0, 0, 0.3));\n",
              "      fill: #FFFFFF;\n",
              "    }\n",
              "  </style>\n",
              "\n",
              "      <script>\n",
              "        const buttonEl =\n",
              "          document.querySelector('#df-22d51be6-9a44-4436-9b68-c11acef4c5f7 button.colab-df-convert');\n",
              "        buttonEl.style.display =\n",
              "          google.colab.kernel.accessAllowed ? 'block' : 'none';\n",
              "\n",
              "        async function convertToInteractive(key) {\n",
              "          const element = document.querySelector('#df-22d51be6-9a44-4436-9b68-c11acef4c5f7');\n",
              "          const dataTable =\n",
              "            await google.colab.kernel.invokeFunction('convertToInteractive',\n",
              "                                                     [key], {});\n",
              "          if (!dataTable) return;\n",
              "\n",
              "          const docLinkHtml = 'Like what you see? Visit the ' +\n",
              "            '<a target=\"_blank\" href=https://colab.research.google.com/notebooks/data_table.ipynb>data table notebook</a>'\n",
              "            + ' to learn more about interactive tables.';\n",
              "          element.innerHTML = '';\n",
              "          dataTable['output_type'] = 'display_data';\n",
              "          await google.colab.output.renderOutput(dataTable, element);\n",
              "          const docLink = document.createElement('div');\n",
              "          docLink.innerHTML = docLinkHtml;\n",
              "          element.appendChild(docLink);\n",
              "        }\n",
              "      </script>\n",
              "    </div>\n",
              "  </div>\n",
              "  "
            ]
          },
          "metadata": {},
          "execution_count": 25
        }
      ]
    },
    {
      "cell_type": "markdown",
      "source": [
        "Data yang dimiliki adalah data dengan 100 fitur (genes) ditunjukkan oleh **KOLOM**. Dan 10 observasi data **BARIS**"
      ],
      "metadata": {
        "id": "46fmWbbO00B3"
      }
    },
    {
      "cell_type": "markdown",
      "source": [
        "# Perform PCA on the data"
      ],
      "metadata": {
        "id": "sfG1jg1m1BIw"
      }
    },
    {
      "cell_type": "markdown",
      "source": [
        "scale = $\\frac{(measure-mean)^2}{n.measurements}$"
      ],
      "metadata": {
        "id": "VJLt70OY1WVT"
      }
    },
    {
      "cell_type": "code",
      "source": [
        "# First center and scale the data\n",
        "scaled_data = preprocessing.scale(data)"
      ],
      "metadata": {
        "id": "J0N5c_Z30zio"
      },
      "execution_count": null,
      "outputs": []
    },
    {
      "cell_type": "code",
      "source": [
        "pca = PCA() # create a PCA object\n",
        "pca.fit(scaled_data) # do the math\n",
        "pca_data = pca.transform(scaled_data) # get PCA coordinates for scaled_data"
      ],
      "metadata": {
        "id": "UIgtoxDf23ax"
      },
      "execution_count": null,
      "outputs": []
    },
    {
      "cell_type": "markdown",
      "source": [
        "# Draw a scree plot and a PCA plot"
      ],
      "metadata": {
        "id": "0jbJQxa83I0Z"
      }
    },
    {
      "cell_type": "code",
      "source": [
        "#The following code constructs the Scree plot\n",
        "per_var = np.round(pca.explained_variance_ratio_* 100, decimals=1)\n",
        "labels = ['PC' + str(x) for x in range(1, len(per_var)+1)]\n",
        " \n",
        "plt.bar(x=range(1,len(per_var)+1), height=per_var, tick_label=labels)\n",
        "plt.ylabel('Percentage of Explained Variance')\n",
        "plt.xlabel('Principal Component')\n",
        "plt.title('Scree Plot')\n",
        "plt.show()"
      ],
      "metadata": {
        "colab": {
          "base_uri": "https://localhost:8080/",
          "height": 295
        },
        "id": "dB3bxqO83Jjc",
        "outputId": "49061c40-aedd-4f67-ff10-75b7751de941"
      },
      "execution_count": null,
      "outputs": [
        {
          "output_type": "display_data",
          "data": {
            "text/plain": [
              "<Figure size 432x288 with 1 Axes>"
            ],
            "image/png": "[encoded data removed]"
          },
          "metadata": {
            "needs_background": "light"
          }
        }
      ]
    },
    {
      "cell_type": "code",
      "source": [
        "np.round(pca.explained_variance_ratio_* 100, decimals=1)"
      ],
      "metadata": {
        "colab": {
          "base_uri": "https://localhost:8080/"
        },
        "id": "2POKkl_9CBCX",
        "outputId": "cfa6432d-bf2e-4a09-ae2f-dca917c1c377"
      },
      "execution_count": null,
      "outputs": [
        {
          "output_type": "execute_result",
          "data": {
            "text/plain": [
              "array([91.8,  2.4,  1.8,  1.2,  0.9,  0.7,  0.5,  0.4,  0.4,  0. ])"
            ]
          },
          "metadata": {},
          "execution_count": 29
        }
      ]
    },
    {
      "cell_type": "code",
      "source": [
        "\n",
        "#the following code makes a fancy looking plot using PC1 and PC2\n",
        "pca_df = pd.DataFrame(pca_data, index=[*wt, *ko], columns=labels)\n",
        " \n",
        "plt.scatter(pca_df.PC1, pca_df.PC2)\n",
        "plt.title('My PCA Graph')\n",
        "plt.xlabel('PC1 - {0}%'.format(per_var[0]))\n",
        "plt.ylabel('PC2 - {0}%'.format(per_var[1]))\n",
        " \n",
        "for sample in pca_df.index:\n",
        "    plt.annotate(sample, (pca_df.PC1.loc[sample], pca_df.PC2.loc[sample]))\n",
        " \n",
        "plt.show()"
      ],
      "metadata": {
        "colab": {
          "base_uri": "https://localhost:8080/",
          "height": 295
        },
        "id": "xkdrH4To65uR",
        "outputId": "69911832-8df5-4cd3-8fa6-ebabc54aad44"
      },
      "execution_count": null,
      "outputs": [
        {
          "output_type": "display_data",
          "data": {
            "text/plain": [
              "<Figure size 432x288 with 1 Axes>"
            ],
            "image/png": "[encoded data removed]"
          },
          "metadata": {
            "needs_background": "light"
          }
        }
      ]
    },
    {
      "cell_type": "markdown",
      "source": [
        "**Insight**\n",
        "\n",
        "\n",
        "\n",
        "*   Secara umum data terdiri atas 2 cluster yaitu ko dan wt\n",
        "*   Semakin jauh jarak titik observasi semakin jauh karakteristiknya\n",
        "*   Nilai informasi yang ditangkap oleh visualisi diatas PC 1 sebesar 92.5%\n",
        " \n",
        "\n",
        "\n",
        "\n"
      ],
      "metadata": {
        "id": "zx45UoT7CZgw"
      }
    },
    {
      "cell_type": "markdown",
      "source": [
        "# Determine which genes had the biggest influence on PC1"
      ],
      "metadata": {
        "id": "tZIi605X-o_W"
      }
    },
    {
      "cell_type": "code",
      "source": [
        "## get the name of the top 10 measurements (genes) that contribute\n",
        "## most to pc1.\n",
        "## first, get the loading scores\n",
        "loading_scores = pd.Series(pca.components_[0], index=genes)\n",
        "loading_scores"
      ],
      "metadata": {
        "colab": {
          "base_uri": "https://localhost:8080/"
        },
        "id": "sUP9UA1F-pzG",
        "outputId": "8258bdda-4b5e-4045-a6fb-5deb999ab69e"
      },
      "execution_count": null,
      "outputs": [
        {
          "output_type": "execute_result",
          "data": {
            "text/plain": [
              "gene1      0.057433\n",
              "gene2      0.099547\n",
              "gene3     -0.086863\n",
              "gene4      0.098324\n",
              "gene5      0.030129\n",
              "             ...   \n",
              "gene96     0.104107\n",
              "gene97     0.103977\n",
              "gene98    -0.101648\n",
              "gene99     0.103878\n",
              "gene100    0.100506\n",
              "Length: 100, dtype: float64"
            ]
          },
          "metadata": {},
          "execution_count": 31
        }
      ]
    },
    {
      "cell_type": "markdown",
      "source": [
        "Loading score menunjukkan nilai korelasi fitur terhadap PC, semakin besar loading score semakin memberi kontribusi yang besar terhadap PC"
      ],
      "metadata": {
        "id": "rMCsUT-L_pYD"
      }
    },
    {
      "cell_type": "code",
      "source": [
        "## now sort the loading scores based on their magnitude (besar ke kecil)\n",
        "sorted_loading_scores = loading_scores.abs().sort_values(ascending=False)\n",
        "sorted_loading_scores"
      ],
      "metadata": {
        "colab": {
          "base_uri": "https://localhost:8080/"
        },
        "id": "u-rO5Rh3_Fpo",
        "outputId": "5e9ae4ff-c3f6-42c3-cdbb-605d6f13803e"
      },
      "execution_count": null,
      "outputs": [
        {
          "output_type": "execute_result",
          "data": {
            "text/plain": [
              "gene73    0.104303\n",
              "gene9     0.104294\n",
              "gene47    0.104265\n",
              "gene43    0.104255\n",
              "gene10    0.104244\n",
              "            ...   \n",
              "gene1     0.057433\n",
              "gene18    0.055545\n",
              "gene37    0.045410\n",
              "gene5     0.030129\n",
              "gene69    0.023695\n",
              "Length: 100, dtype: float64"
            ]
          },
          "metadata": {},
          "execution_count": 32
        }
      ]
    },
    {
      "cell_type": "code",
      "source": [
        "# get the names of the top 10 genes\n",
        "top_10_genes = sorted_loading_scores[0:10].index.values"
      ],
      "metadata": {
        "id": "yTqZCYP2ABvu"
      },
      "execution_count": null,
      "outputs": []
    },
    {
      "cell_type": "code",
      "source": [
        "## print the gene names and their scores (and +/- sign)\n",
        "print(loading_scores[top_10_genes])"
      ],
      "metadata": {
        "colab": {
          "base_uri": "https://localhost:8080/"
        },
        "id": "4lK7WJkbADJX",
        "outputId": "8a25e6fa-0b82-4ed6-a45d-9f4e172e9075"
      },
      "execution_count": null,
      "outputs": [
        {
          "output_type": "stream",
          "name": "stdout",
          "text": [
            "gene73    0.104303\n",
            "gene9    -0.104294\n",
            "gene47    0.104265\n",
            "gene43    0.104255\n",
            "gene10   -0.104244\n",
            "gene39    0.104238\n",
            "gene74   -0.104237\n",
            "gene90    0.104230\n",
            "gene91    0.104228\n",
            "gene70    0.104220\n",
            "dtype: float64\n"
          ]
        }
      ]
    },
    {
      "cell_type": "markdown",
      "source": [
        "10 variabel yang memberikan impact tertinggi pada PC"
      ],
      "metadata": {
        "id": "NTWzEd09V2e2"
      }
    },
    {
      "cell_type": "markdown",
      "source": [
        "PCA bagian dari Unsupervised Learning\n",
        "\n",
        "PCA dapat Melihat karakteristik data high dimensi\n",
        "\n"
      ],
      "metadata": {
        "id": "lVIcq8IeBwKZ"
      }
    },
    {
      "cell_type": "markdown",
      "source": [
        "## Self Learning: Membuat PCA dengan data Iris yang telah dikenali sebelumnya"
      ],
      "metadata": {
        "id": "gPnPA8uHBzUc"
      }
    }
  ]
}