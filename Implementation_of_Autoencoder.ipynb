{
  "nbformat": 4,
  "nbformat_minor": 0,
  "metadata": {
    "colab": {
      "name": "Implementation of Autoencoder.ipynb",
      "provenance": [],
      "include_colab_link": true
    },
    "kernelspec": {
      "name": "python3",
      "display_name": "Python 3"
    },
    "language_info": {
      "name": "python"
    }
  },
  "cells": [
    {
      "cell_type": "markdown",
      "metadata": {
        "id": "view-in-github",
        "colab_type": "text"
      },
      "source": [
        "<a href=\"https://colab.research.google.com/github/zidanardany/hasil-belajar-ai-mastery/blob/main/Implementation_of_Autoencoder.ipynb\" target=\"_parent\"><img src=\"https://colab.research.google.com/assets/colab-badge.svg\" alt=\"Open In Colab\"/></a>"
      ]
    },
    {
      "cell_type": "markdown",
      "source": [
        "**Task**\n",
        "1. Autoencoders for image compression\n",
        "2. Autoencoders for image denosing"
      ],
      "metadata": {
        "id": "PpIRzEG_uE0n"
      }
    },
    {
      "cell_type": "markdown",
      "source": [
        "**Architeture**\n",
        "1. Encoder\n",
        "2. Code -> latent sparse representatoin\n",
        "3. Decoder"
      ],
      "metadata": {
        "id": "4I5pvbgMuUrc"
      }
    },
    {
      "cell_type": "markdown",
      "source": [
        "## Autoencoders for Image Compression - Fully Connected Autoencoder"
      ],
      "metadata": {
        "id": "H1WPViHKuc6X"
      }
    },
    {
      "cell_type": "code",
      "execution_count": null,
      "metadata": {
        "id": "n6hRD0q0t-_Y"
      },
      "outputs": [],
      "source": [
        "import numpy as np\n",
        "import matplotlib.pyplot as plt\n",
        "from tensorflow.keras.datasets import mnist\n",
        "from tensorflow.keras import models, layers"
      ]
    },
    {
      "cell_type": "markdown",
      "source": [
        "**Data Preparation**"
      ],
      "metadata": {
        "id": "PikRrNKmvBO5"
      }
    },
    {
      "cell_type": "code",
      "source": [
        "(xtrain,ytain), (xtest, ytest) = mnist.load_data()"
      ],
      "metadata": {
        "colab": {
          "base_uri": "https://localhost:8080/"
        },
        "id": "wM-zFWTGu_qZ",
        "outputId": "bfbc60c7-8353-4ae4-b17c-ceed9b1d805a"
      },
      "execution_count": null,
      "outputs": [
        {
          "output_type": "stream",
          "name": "stdout",
          "text": [
            "Downloading data from https://storage.googleapis.com/tensorflow/tf-keras-datasets/mnist.npz\n",
            "11493376/11490434 [==============================] - 0s 0us/step\n",
            "11501568/11490434 [==============================] - 0s 0us/step\n"
          ]
        }
      ]
    },
    {
      "cell_type": "code",
      "source": [
        "ytest[0]"
      ],
      "metadata": {
        "colab": {
          "base_uri": "https://localhost:8080/"
        },
        "id": "f0LELEhqvfz6",
        "outputId": "866f56fd-3936-4831-b717-1a991314ce76"
      },
      "execution_count": null,
      "outputs": [
        {
          "output_type": "execute_result",
          "data": {
            "text/plain": [
              "7"
            ]
          },
          "metadata": {},
          "execution_count": 3
        }
      ]
    },
    {
      "cell_type": "code",
      "source": [
        "print(xtrain.shape)\n",
        "print(xtest.shape)"
      ],
      "metadata": {
        "colab": {
          "base_uri": "https://localhost:8080/"
        },
        "id": "aIu2m8KtvXUT",
        "outputId": "d439128c-a281-44e8-de61-909001c16be1"
      },
      "execution_count": null,
      "outputs": [
        {
          "output_type": "stream",
          "name": "stdout",
          "text": [
            "(60000, 28, 28)\n",
            "(10000, 28, 28)\n"
          ]
        }
      ]
    },
    {
      "cell_type": "code",
      "source": [
        "xtrain = xtrain/255\n",
        "xtest = xtest/255"
      ],
      "metadata": {
        "id": "RninsZKJvlLP"
      },
      "execution_count": null,
      "outputs": []
    },
    {
      "cell_type": "markdown",
      "source": [
        "**Convert m x n dimension to m-dimension**"
      ],
      "metadata": {
        "id": "vHDh4dg3v5ql"
      }
    },
    {
      "cell_type": "code",
      "source": [
        "xtrain = xtrain.reshape(60000, 28*28)\n",
        "xtest = xtest.reshape(10000, 28*28)"
      ],
      "metadata": {
        "id": "furWyY8Gvy1Y"
      },
      "execution_count": null,
      "outputs": []
    },
    {
      "cell_type": "markdown",
      "source": [
        "**Modelling**"
      ],
      "metadata": {
        "id": "uJcPZw0awEfu"
      }
    },
    {
      "cell_type": "code",
      "source": [
        "#Encoder\n",
        "input_layer = layers.Input(shape=(784,))\n",
        "dense1 = layers.Dense(128, activation='relu')(input_layer)\n",
        "\n",
        "# Code - Latent sparse representation\n",
        "dense2 = layers.Dense(16, activation='relu')(dense1)\n",
        "\n",
        "#Decoder\n",
        "dense3 = layers.Dense(128, activation='relu')(dense2)\n",
        "output_layer = layers.Dense(784, activation='sigmoid')(dense3)\n",
        "\n",
        "model = models.Model(input_layer, output_layer)\n",
        "model.summary()"
      ],
      "metadata": {
        "colab": {
          "base_uri": "https://localhost:8080/"
        },
        "id": "b1Ds9s0owDj6",
        "outputId": "16a6ded1-390f-4854-b293-36d53773d156"
      },
      "execution_count": null,
      "outputs": [
        {
          "output_type": "stream",
          "name": "stdout",
          "text": [
            "Model: \"model\"\n",
            "_________________________________________________________________\n",
            " Layer (type)                Output Shape              Param #   \n",
            "=================================================================\n",
            " input_1 (InputLayer)        [(None, 784)]             0         \n",
            "                                                                 \n",
            " dense (Dense)               (None, 128)               100480    \n",
            "                                                                 \n",
            " dense_1 (Dense)             (None, 16)                2064      \n",
            "                                                                 \n",
            " dense_2 (Dense)             (None, 128)               2176      \n",
            "                                                                 \n",
            " dense_3 (Dense)             (None, 784)               101136    \n",
            "                                                                 \n",
            "=================================================================\n",
            "Total params: 205,856\n",
            "Trainable params: 205,856\n",
            "Non-trainable params: 0\n",
            "_________________________________________________________________\n"
          ]
        }
      ]
    },
    {
      "cell_type": "code",
      "source": [
        "model.compile(optimizer='adam', loss='binary_crossentropy')\n",
        "history = model.fit(xtrain, xtrain, epochs=30, batch_size=128, shuffle=True)"
      ],
      "metadata": {
        "colab": {
          "base_uri": "https://localhost:8080/"
        },
        "id": "zzFPsm2exruJ",
        "outputId": "d8615e62-279f-4986-8677-26a4aa2fe278"
      },
      "execution_count": null,
      "outputs": [
        {
          "output_type": "stream",
          "name": "stdout",
          "text": [
            "Epoch 1/30\n",
            "469/469 [==============================] - 6s 10ms/step - loss: 0.2025\n",
            "Epoch 2/30\n",
            "469/469 [==============================] - 5s 10ms/step - loss: 0.1357\n",
            "Epoch 3/30\n",
            "469/469 [==============================] - 5s 10ms/step - loss: 0.1274\n",
            "Epoch 4/30\n",
            "469/469 [==============================] - 5s 10ms/step - loss: 0.1229\n",
            "Epoch 5/30\n",
            "469/469 [==============================] - 5s 10ms/step - loss: 0.1201\n",
            "Epoch 6/30\n",
            "469/469 [==============================] - 5s 10ms/step - loss: 0.1182\n",
            "Epoch 7/30\n",
            "469/469 [==============================] - 5s 10ms/step - loss: 0.1167\n",
            "Epoch 8/30\n",
            "469/469 [==============================] - 5s 10ms/step - loss: 0.1153\n",
            "Epoch 9/30\n",
            "469/469 [==============================] - 5s 10ms/step - loss: 0.1142\n",
            "Epoch 10/30\n",
            "469/469 [==============================] - 5s 10ms/step - loss: 0.1132\n",
            "Epoch 11/30\n",
            "469/469 [==============================] - 5s 10ms/step - loss: 0.1124\n",
            "Epoch 12/30\n",
            "469/469 [==============================] - 5s 10ms/step - loss: 0.1116\n",
            "Epoch 13/30\n",
            "469/469 [==============================] - 5s 11ms/step - loss: 0.1110\n",
            "Epoch 14/30\n",
            "469/469 [==============================] - 5s 11ms/step - loss: 0.1104\n",
            "Epoch 15/30\n",
            "469/469 [==============================] - 5s 10ms/step - loss: 0.1098\n",
            "Epoch 16/30\n",
            "469/469 [==============================] - 5s 10ms/step - loss: 0.1093\n",
            "Epoch 17/30\n",
            "469/469 [==============================] - 5s 10ms/step - loss: 0.1088\n",
            "Epoch 18/30\n",
            "469/469 [==============================] - 5s 10ms/step - loss: 0.1084\n",
            "Epoch 19/30\n",
            "469/469 [==============================] - 5s 10ms/step - loss: 0.1080\n",
            "Epoch 20/30\n",
            "469/469 [==============================] - 5s 10ms/step - loss: 0.1076\n",
            "Epoch 21/30\n",
            "469/469 [==============================] - 5s 10ms/step - loss: 0.1073\n",
            "Epoch 22/30\n",
            "469/469 [==============================] - 5s 10ms/step - loss: 0.1070\n",
            "Epoch 23/30\n",
            "469/469 [==============================] - 5s 10ms/step - loss: 0.1067\n",
            "Epoch 24/30\n",
            "469/469 [==============================] - 5s 10ms/step - loss: 0.1064\n",
            "Epoch 25/30\n",
            "469/469 [==============================] - 5s 10ms/step - loss: 0.1062\n",
            "Epoch 26/30\n",
            "469/469 [==============================] - 5s 10ms/step - loss: 0.1059\n",
            "Epoch 27/30\n",
            "469/469 [==============================] - 5s 10ms/step - loss: 0.1057\n",
            "Epoch 28/30\n",
            "469/469 [==============================] - 5s 10ms/step - loss: 0.1055\n",
            "Epoch 29/30\n",
            "469/469 [==============================] - 5s 10ms/step - loss: 0.1052\n",
            "Epoch 30/30\n",
            "469/469 [==============================] - 5s 10ms/step - loss: 0.1050\n"
          ]
        }
      ]
    },
    {
      "cell_type": "code",
      "source": [
        "plt.plot(history.history['loss'])\n",
        "plt.title('Model Loss')\n",
        "plt.ylabel('Loss ')\n",
        "plt.xlabel('Epoch ')\n",
        "plt.show()"
      ],
      "metadata": {
        "colab": {
          "base_uri": "https://localhost:8080/",
          "height": 295
        },
        "id": "hJujVTbQylOw",
        "outputId": "7f6b1001-0090-490f-8917-7e1a95e07639"
      },
      "execution_count": null,
      "outputs": [
        {
          "output_type": "display_data",
          "data": {
            "text/plain": [
              "<Figure size 432x288 with 1 Axes>"
            ],
            "image/png": "[encoded data removed]"
          },
          "metadata": {
            "needs_background": "light"
          }
        }
      ]
    },
    {
      "cell_type": "code",
      "source": [
        "laten_sparse = models.Model(input_layer, dense2)\n",
        "laten_sparse.summary()"
      ],
      "metadata": {
        "colab": {
          "base_uri": "https://localhost:8080/"
        },
        "id": "d_XbjE3ry-a9",
        "outputId": "c9a8c2e8-0565-42fd-d748-55e31d49c730"
      },
      "execution_count": null,
      "outputs": [
        {
          "output_type": "stream",
          "name": "stdout",
          "text": [
            "Model: \"model_1\"\n",
            "_________________________________________________________________\n",
            " Layer (type)                Output Shape              Param #   \n",
            "=================================================================\n",
            " input_1 (InputLayer)        [(None, 784)]             0         \n",
            "                                                                 \n",
            " dense (Dense)               (None, 128)               100480    \n",
            "                                                                 \n",
            " dense_1 (Dense)             (None, 16)                2064      \n",
            "                                                                 \n",
            "=================================================================\n",
            "Total params: 102,544\n",
            "Trainable params: 102,544\n",
            "Non-trainable params: 0\n",
            "_________________________________________________________________\n"
          ]
        }
      ]
    },
    {
      "cell_type": "markdown",
      "source": [
        "**Prediction**"
      ],
      "metadata": {
        "id": "wA74R2b7zPE-"
      }
    },
    {
      "cell_type": "code",
      "source": [
        "laten_sparse_pred = laten_sparse.predict(xtest)\n",
        "output_pred = model.predict(xtest)"
      ],
      "metadata": {
        "id": "BtWbFIKuzK9R"
      },
      "execution_count": null,
      "outputs": []
    },
    {
      "cell_type": "code",
      "source": [
        "n = 5\n",
        "for i in range(n):\n",
        "  plt.figure(figsize=(12,4))\n",
        "  plt.subplot(131)\n",
        "  plt.title('Original Image')\n",
        "  plt.imshow(xtest[i].reshape(28,28), cmap='gray')\n",
        "  \n",
        "\n",
        "  plt.subplot(132)\n",
        "  plt.title('Compressed Image')\n",
        "  plt.imshow(laten_sparse_pred[i].reshape(4,4), cmap='gray')\n",
        "\n",
        "  plt.subplot(133)\n",
        "  plt.title('Reconstructed Image')\n",
        "  plt.imshow(output_pred[i].reshape(28,28), cmap='gray')\n",
        "  plt.show()"
      ],
      "metadata": {
        "colab": {
          "base_uri": "https://localhost:8080/",
          "height": 1000
        },
        "id": "FvzeouK_zejU",
        "outputId": "b7868a28-e62a-45b6-cb97-41547011f513"
      },
      "execution_count": null,
      "outputs": [
        {
          "output_type": "display_data",
          "data": {
            "text/plain": [
              "<Figure size 864x288 with 3 Axes>"
            ],
            "image/png": "[encoded data removed]"
          },
          "metadata": {
            "needs_background": "light"
          }
        },
        {
          "output_type": "display_data",
          "data": {
            "text/plain": [
              "<Figure size 864x288 with 3 Axes>"
            ],
            "image/png": "[encoded data removed]"
          },
          "metadata": {
            "needs_background": "light"
          }
        },
        {
          "output_type": "display_data",
          "data": {
            "text/plain": [
              "<Figure size 864x288 with 3 Axes>"
            ],
            "image/png": "[encoded data removed]"
          },
          "metadata": {
            "needs_background": "light"
          }
        },
        {
          "output_type": "display_data",
          "data": {
            "text/plain": [
              "<Figure size 864x288 with 3 Axes>"
            ],
            "image/png": "[encoded data removed]"
          },
          "metadata": {
            "needs_background": "light"
          }
        },
        {
          "output_type": "display_data",
          "data": {
            "text/plain": [
              "<Figure size 864x288 with 3 Axes>"
            ],
            "image/png": "[encoded data removed]"
          },
          "metadata": {
            "needs_background": "light"
          }
        }
      ]
    },
    {
      "cell_type": "code",
      "source": [
        "\n"
      ],
      "metadata": {
        "id": "EZ96N8lXznsK"
      },
      "execution_count": null,
      "outputs": []
    },
    {
      "cell_type": "markdown",
      "source": [
        "## Autoencoders for denoising images - Convolutional Autoencoder"
      ],
      "metadata": {
        "id": "zLDOp7r51bQB"
      }
    },
    {
      "cell_type": "code",
      "source": [
        "(xtrain,ytain), (xtest, ytest) = mnist.load_data()"
      ],
      "metadata": {
        "id": "R81C9XrN1l25"
      },
      "execution_count": null,
      "outputs": []
    },
    {
      "cell_type": "code",
      "source": [
        "#Scaling the images\n",
        "xtrain = (xtrain - 127.5) / 127.5\n",
        "xtest = (xtest - 127.5) / 127.5"
      ],
      "metadata": {
        "id": "Su6iDNS61r7n"
      },
      "execution_count": null,
      "outputs": []
    },
    {
      "cell_type": "code",
      "source": [
        "#Reshaping\n",
        "xtrain = xtrain.reshape(60000, 28,28, 1)\n",
        "xtest = xtest.reshape(10000, 28,28, 1)\n",
        "print(xtrain.shape)\n",
        "print(xtest.shape)"
      ],
      "metadata": {
        "colab": {
          "base_uri": "https://localhost:8080/"
        },
        "id": "23i5Ck-b2C-4",
        "outputId": "2cc09abd-4157-438e-c477-a2345f83690b"
      },
      "execution_count": null,
      "outputs": [
        {
          "output_type": "stream",
          "name": "stdout",
          "text": [
            "(60000, 28, 28, 1)\n",
            "(10000, 28, 28, 1)\n"
          ]
        }
      ]
    },
    {
      "cell_type": "markdown",
      "source": [
        "**Modeling**"
      ],
      "metadata": {
        "id": "udDIxEhn2QTv"
      }
    },
    {
      "cell_type": "code",
      "source": [
        "#Encoder\n",
        "input_layer = layers.Input(shape=(28,28,1))\n",
        "conv1 = layers.Conv2D(16, (3,3), activation='relu', padding='same', strides=(2,2))(input_layer)\n",
        "\n",
        "#Code - Latent spare representation\n",
        "conv2 = layers.Conv2D(8, (3,3), activation='relu', padding='same', strides=(2,2))(conv1)\n",
        "\n",
        "#Decoder\n",
        "conv3 = layers.Conv2DTranspose(8, (3,3), activation='relu', padding='same', strides=(2,2))(conv2)\n",
        "conv4 = layers.Conv2DTranspose(16, (3,3), activation='relu', padding='same', strides=(2,2))(conv3)\n",
        "\n",
        "output_layer = layers.Conv2D(1, (3,3), activation='tanh', padding='same')(conv4)\n",
        "\n",
        "model = models.Model(input_layer, output_layer)"
      ],
      "metadata": {
        "id": "FpFvbh7c2Scf"
      },
      "execution_count": null,
      "outputs": []
    },
    {
      "cell_type": "code",
      "source": [
        "model.summary()"
      ],
      "metadata": {
        "colab": {
          "base_uri": "https://localhost:8080/"
        },
        "id": "1tQ5p0qm3eQX",
        "outputId": "f6f45f11-80ce-484d-ddd1-f42d5af49806"
      },
      "execution_count": null,
      "outputs": [
        {
          "output_type": "stream",
          "name": "stdout",
          "text": [
            "Model: \"model_4\"\n",
            "_________________________________________________________________\n",
            " Layer (type)                Output Shape              Param #   \n",
            "=================================================================\n",
            " input_7 (InputLayer)        [(None, 28, 28, 1)]       0         \n",
            "                                                                 \n",
            " conv2d_2 (Conv2D)           (None, 14, 14, 16)        160       \n",
            "                                                                 \n",
            " conv2d_3 (Conv2D)           (None, 7, 7, 8)           1160      \n",
            "                                                                 \n",
            " conv2d_transpose_1 (Conv2DT  (None, 14, 14, 8)        584       \n",
            " ranspose)                                                       \n",
            "                                                                 \n",
            " conv2d_transpose_2 (Conv2DT  (None, 28, 28, 16)       1168      \n",
            " ranspose)                                                       \n",
            "                                                                 \n",
            " conv2d_4 (Conv2D)           (None, 28, 28, 1)         145       \n",
            "                                                                 \n",
            "=================================================================\n",
            "Total params: 3,217\n",
            "Trainable params: 3,217\n",
            "Non-trainable params: 0\n",
            "_________________________________________________________________\n"
          ]
        }
      ]
    },
    {
      "cell_type": "code",
      "source": [
        "from tensorflow.keras import losses\n",
        "model.compile(optimizer='adam', loss=losses.MeanSquaredError())"
      ],
      "metadata": {
        "id": "nwwJb6Dd3iyR"
      },
      "execution_count": null,
      "outputs": []
    },
    {
      "cell_type": "markdown",
      "source": [
        "**membuat sintesa dataset (noise) dari original image**"
      ],
      "metadata": {
        "id": "nJv6ITQz3vXf"
      }
    },
    {
      "cell_type": "code",
      "source": [
        "import tensorflow as tf\n",
        "\n",
        "noise_factor = 0.4\n",
        "xtrain_noisy = xtrain + noise_factor * tf.random.normal(shape=xtrain.shape)\n",
        "xtest_noisy = xtest + noise_factor * tf.random.normal(shape=xtest.shape)\n",
        "\n",
        "xtrain_noisy = tf.clip_by_value(xtrain_noisy, -1, 1.0)\n",
        "xtest_noisy = tf.clip_by_value(xtest_noisy, -1, 1.0)"
      ],
      "metadata": {
        "id": "P7WZZ3ET37mz"
      },
      "execution_count": null,
      "outputs": []
    },
    {
      "cell_type": "code",
      "source": [
        "n = 5\n",
        "plt.figure(figsize=(20,3))\n",
        "for i in range(n):\n",
        "  plt.subplot(1, n, i+1)\n",
        "  plt.imshow(tf.squeeze(xtrain_noisy[i]), cmap='gray')\n",
        "plt.show()"
      ],
      "metadata": {
        "colab": {
          "base_uri": "https://localhost:8080/",
          "height": 212
        },
        "id": "ZQY62rjn4nUH",
        "outputId": "5bfa924c-ed2d-4000-afa4-75ec86bfbf57"
      },
      "execution_count": null,
      "outputs": [
        {
          "output_type": "display_data",
          "data": {
            "text/plain": [
              "<Figure size 1440x216 with 5 Axes>"
            ],
            "image/png": "[encoded data removed]"
          },
          "metadata": {
            "needs_background": "light"
          }
        }
      ]
    },
    {
      "cell_type": "code",
      "source": [
        "n = 5\n",
        "plt.figure(figsize=(20,3))\n",
        "for i in range(n):\n",
        "  plt.subplot(1, n, i+1)\n",
        "  plt.imshow(tf.squeeze(xtrain[i]), cmap='gray')\n",
        "plt.show()"
      ],
      "metadata": {
        "colab": {
          "base_uri": "https://localhost:8080/",
          "height": 212
        },
        "id": "6jmHmZ2149jC",
        "outputId": "c804b7ba-c7b9-4d0f-a6f3-ab3d9ade8d12"
      },
      "execution_count": null,
      "outputs": [
        {
          "output_type": "display_data",
          "data": {
            "text/plain": [
              "<Figure size 1440x216 with 5 Axes>"
            ],
            "image/png": "[encoded data removed]"
          },
          "metadata": {
            "needs_background": "light"
          }
        }
      ]
    },
    {
      "cell_type": "code",
      "source": [
        "history = model.fit(xtrain_noisy, xtrain, epochs=5, batch_size=2000, shuffle=True)"
      ],
      "metadata": {
        "colab": {
          "base_uri": "https://localhost:8080/"
        },
        "id": "1eknUEEn5HnY",
        "outputId": "43d588c0-bd85-40a6-d0a0-516720de7afe"
      },
      "execution_count": null,
      "outputs": [
        {
          "output_type": "stream",
          "name": "stdout",
          "text": [
            "Epoch 1/5\n",
            "30/30 [==============================] - 44s 1s/step - loss: 0.0177\n",
            "Epoch 2/5\n",
            "30/30 [==============================] - 44s 1s/step - loss: 0.0176\n",
            "Epoch 3/5\n",
            "30/30 [==============================] - 44s 1s/step - loss: 0.0175\n",
            "Epoch 4/5\n",
            "30/30 [==============================] - 44s 1s/step - loss: 0.0174\n",
            "Epoch 5/5\n",
            "30/30 [==============================] - 44s 1s/step - loss: 0.0173\n"
          ]
        }
      ]
    },
    {
      "cell_type": "code",
      "source": [
        "laten_sparse = models.Model(input_layer, conv2)\n",
        "laten_sparse.summary()"
      ],
      "metadata": {
        "colab": {
          "base_uri": "https://localhost:8080/"
        },
        "id": "IaTu1SyY5bDB",
        "outputId": "02b704cf-ad07-485f-dbb1-0bd5cf3c12ec"
      },
      "execution_count": null,
      "outputs": [
        {
          "output_type": "stream",
          "name": "stdout",
          "text": [
            "Model: \"model_5\"\n",
            "_________________________________________________________________\n",
            " Layer (type)                Output Shape              Param #   \n",
            "=================================================================\n",
            " input_7 (InputLayer)        [(None, 28, 28, 1)]       0         \n",
            "                                                                 \n",
            " conv2d_2 (Conv2D)           (None, 14, 14, 16)        160       \n",
            "                                                                 \n",
            " conv2d_3 (Conv2D)           (None, 7, 7, 8)           1160      \n",
            "                                                                 \n",
            "=================================================================\n",
            "Total params: 1,320\n",
            "Trainable params: 1,320\n",
            "Non-trainable params: 0\n",
            "_________________________________________________________________\n"
          ]
        }
      ]
    },
    {
      "cell_type": "code",
      "source": [
        "laten_sparse_pred = laten_sparse.predict(xtest_noisy)\n",
        "output_pred = model.predict(xtest_noisy)"
      ],
      "metadata": {
        "id": "pY4sopVg7gVq"
      },
      "execution_count": null,
      "outputs": []
    },
    {
      "cell_type": "code",
      "source": [
        "n = 5\n",
        "for i in range(n):\n",
        "  plt.subplot(131)\n",
        "  plt.title('Noisy Image')\n",
        "  plt.imshow(tf.squeeze(xtest_noisy[i]), cmap='gray')\n",
        "  \n",
        "  plt.subplot(132)\n",
        "  plt.title('Clear Prediction Image')\n",
        "  plt.imshow(output_pred[i].reshape(28,28), cmap='gray')\n",
        "  plt.show()\n",
        "\n",
        "  plt.subplot(133)\n",
        "  plt.title('Clear Expected Image')\n",
        "  plt.imshow(tf.squeeze(xtest[i]), cmap='gray')\n",
        "  plt.show()"
      ],
      "metadata": {
        "colab": {
          "base_uri": "https://localhost:8080/",
          "height": 245
        },
        "id": "u8RNEVX97whl",
        "outputId": "161176c9-d25d-48dd-9632-99c485897db6"
      },
      "execution_count": null,
      "outputs": [
        {
          "output_type": "error",
          "ename": "NameError",
          "evalue": "ignored",
          "traceback": [
            "\u001b[0;31m---------------------------------------------------------------------------\u001b[0m",
            "\u001b[0;31mNameError\u001b[0m                                 Traceback (most recent call last)",
            "\u001b[0;32m<ipython-input-1-8b7f6ad9ec0f>\u001b[0m in \u001b[0;36m<module>\u001b[0;34m()\u001b[0m\n\u001b[1;32m      1\u001b[0m \u001b[0mn\u001b[0m \u001b[0;34m=\u001b[0m \u001b[0;36m5\u001b[0m\u001b[0;34m\u001b[0m\u001b[0;34m\u001b[0m\u001b[0m\n\u001b[1;32m      2\u001b[0m \u001b[0;32mfor\u001b[0m \u001b[0mi\u001b[0m \u001b[0;32min\u001b[0m \u001b[0mrange\u001b[0m\u001b[0;34m(\u001b[0m\u001b[0mn\u001b[0m\u001b[0;34m)\u001b[0m\u001b[0;34m:\u001b[0m\u001b[0;34m\u001b[0m\u001b[0;34m\u001b[0m\u001b[0m\n\u001b[0;32m----> 3\u001b[0;31m   \u001b[0mplt\u001b[0m\u001b[0;34m.\u001b[0m\u001b[0msubplot\u001b[0m\u001b[0;34m(\u001b[0m\u001b[0;36m131\u001b[0m\u001b[0;34m)\u001b[0m\u001b[0;34m\u001b[0m\u001b[0;34m\u001b[0m\u001b[0m\n\u001b[0m\u001b[1;32m      4\u001b[0m   \u001b[0mplt\u001b[0m\u001b[0;34m.\u001b[0m\u001b[0mtitle\u001b[0m\u001b[0;34m(\u001b[0m\u001b[0;34m'Noisy Image'\u001b[0m\u001b[0;34m)\u001b[0m\u001b[0;34m\u001b[0m\u001b[0;34m\u001b[0m\u001b[0m\n\u001b[1;32m      5\u001b[0m   \u001b[0mplt\u001b[0m\u001b[0;34m.\u001b[0m\u001b[0mimshow\u001b[0m\u001b[0;34m(\u001b[0m\u001b[0mtf\u001b[0m\u001b[0;34m.\u001b[0m\u001b[0msqueeze\u001b[0m\u001b[0;34m(\u001b[0m\u001b[0mxtest_noisy\u001b[0m\u001b[0;34m[\u001b[0m\u001b[0mi\u001b[0m\u001b[0;34m]\u001b[0m\u001b[0;34m)\u001b[0m\u001b[0;34m,\u001b[0m \u001b[0mcmap\u001b[0m\u001b[0;34m=\u001b[0m\u001b[0;34m'gray'\u001b[0m\u001b[0;34m)\u001b[0m\u001b[0;34m\u001b[0m\u001b[0;34m\u001b[0m\u001b[0m\n",
            "\u001b[0;31mNameError\u001b[0m: name 'plt' is not defined"
          ]
        }
      ]
    }
  ]
}